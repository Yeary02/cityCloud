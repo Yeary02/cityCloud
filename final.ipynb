{
 "cells": [
  {
   "cell_type": "code",
   "execution_count": 1,
   "metadata": {},
   "outputs": [],
   "source": [
    "import pandas as pd\n",
    "import numpy as np"
   ]
  },
  {
   "cell_type": "code",
   "execution_count": 2,
   "metadata": {},
   "outputs": [],
   "source": [
    "seattle = pd.read_csv(\"./rawdata/KSEA.csv\")\n",
    "houston = pd.read_csv(\"./rawdata/KHOU-2.csv\")\n",
    "nyc = pd.read_csv(\"./rawdata/KNYC.csv\")\n",
    "la = pd.read_csv(\"./rawdata/CQT.csv\")\n",
    "chicago = pd.read_csv(\"./rawdata/MDW.csv\")\n",
    "philadelphia = pd.read_csv(\"./rawdata/PHL.csv\")\n",
    "pheonix = pd.read_csv(\"./rawdata/PHX.csv\")\n"
   ]
  },
  {
   "cell_type": "code",
   "execution_count": 3,
   "metadata": {},
   "outputs": [],
   "source": [
    "# Seattle\n",
    "newSeattle = seattle.copy()\n",
    "newSeattle['average_temp'] = newSeattle[['average_min_temp','average_max_temp']].mean(axis=1)\n",
    "# newSeattle.insert(0, 'city', 'Seattle, WA')\n",
    "newSeattle[['average_temp', 'average_precipitation']]\n",
    "seattle_average_temp_year = newSeattle[\"average_temp\"].mean()\n",
    "seattle_average_prec_year = newSeattle[\"average_precipitation\"].sum()"
   ]
  },
  {
   "cell_type": "code",
   "execution_count": 4,
   "metadata": {},
   "outputs": [],
   "source": [
    "# Houston\n",
    "newHouston = houston.copy()\n",
    "newHouston['average_temp'] = newHouston[['average_min_temp','average_max_temp']].mean(axis=1)\n",
    "newHouston[['average_temp', 'average_precipitation']]\n",
    "houston_average_temp_year = newHouston[\"average_temp\"].mean()\n",
    "houston_average_prec_year = newHouston[\"average_precipitation\"].sum()"
   ]
  },
  {
   "cell_type": "code",
   "execution_count": 5,
   "metadata": {},
   "outputs": [],
   "source": [
    "# LA\n",
    "newLa = la.copy()\n",
    "newLa['average_temp'] = newLa[['average_min_temp','average_max_temp']].mean(axis=1)\n",
    "newLa[['average_temp', 'average_precipitation']]\n",
    "la_average_temp_year = newLa[\"average_temp\"].mean()\n",
    "la_average_prec_year = newLa[\"average_precipitation\"].sum()"
   ]
  },
  {
   "cell_type": "code",
   "execution_count": 6,
   "metadata": {},
   "outputs": [],
   "source": [
    "# NYC\n",
    "newNyc = nyc.copy()\n",
    "newNyc['average_temp'] = newNyc[['average_min_temp','average_max_temp']].mean(axis=1)\n",
    "newNyc[['average_temp', 'average_precipitation']]\n",
    "nyc_average_temp_year = newNyc[\"average_temp\"].mean()\n",
    "nyc_average_prec_year = newNyc[\"average_precipitation\"].sum()"
   ]
  },
  {
   "cell_type": "code",
   "execution_count": 7,
   "metadata": {},
   "outputs": [],
   "source": [
    "# chicago\n",
    "newChicago = chicago.copy()\n",
    "newChicago['average_temp'] = newChicago[['average_min_temp','average_max_temp']].mean(axis=1)\n",
    "newChicago[['average_temp', 'average_precipitation']]\n",
    "chicago_average_temp_year = newChicago[\"average_temp\"].mean()\n",
    "chicago_average_prec_year = newChicago[\"average_precipitation\"].sum()"
   ]
  },
  {
   "cell_type": "code",
   "execution_count": 8,
   "metadata": {},
   "outputs": [],
   "source": [
    "# philadelphia\n",
    "newPhiladelphia = philadelphia.copy()\n",
    "newPhiladelphia['average_temp'] = newPhiladelphia[['average_min_temp','average_max_temp']].mean(axis=1)\n",
    "newPhiladelphia[['average_temp', 'average_precipitation']]\n",
    "philadelphia_average_temp_year = newPhiladelphia[\"average_temp\"].mean()\n",
    "philadelphia_average_prec_year = newPhiladelphia[\"average_precipitation\"].sum()"
   ]
  },
  {
   "cell_type": "code",
   "execution_count": 9,
   "metadata": {},
   "outputs": [],
   "source": [
    "# pheonix\n",
    "newPheonix = pheonix.copy()\n",
    "newPheonix['average_temp'] = newPheonix[['average_min_temp','average_max_temp']].mean(axis=1)\n",
    "newPheonix[['average_temp', 'average_precipitation']]\n",
    "pheonix_average_temp_year = newPheonix[\"average_temp\"].mean()\n",
    "pheonix_average_prec_year = newPheonix[\"average_precipitation\"].sum()"
   ]
  },
  {
   "cell_type": "code",
   "execution_count": 10,
   "metadata": {},
   "outputs": [],
   "source": [
    "# data = {'temperature': [seattle_average_temp_year, houston_average_temp_year, nyc_average_temp_year, la_average_temp_year, chicago_average_temp_year, philadelphia_average_temp_year, pheonix_average_temp_year],\n",
    "#         'precipitation': [seattle_average_prec_year, houston_average_prec_year, nyc_average_prec_year, la_average_prec_year, chicago_average_prec_year, philadelphia_average_prec_year, pheonix_average_prec_year],\n",
    "#         }\n",
    "  \n",
    "# # Creates pandas DataFrame.\n",
    "# df = pd.DataFrame(data, index=['Seattle',\n",
    "#                                'Houston',\n",
    "#                                'New York City',\n",
    "#                                'Los Angeles',\n",
    "#                                'Chicago',\n",
    "#                                'Philadelphia',\n",
    "#                                'Pheonix'])\n",
    "# df"
   ]
  },
  {
   "cell_type": "code",
   "execution_count": 15,
   "metadata": {},
   "outputs": [
    {
     "data": {
      "text/html": [
       "<div>\n",
       "<style scoped>\n",
       "    .dataframe tbody tr th:only-of-type {\n",
       "        vertical-align: middle;\n",
       "    }\n",
       "\n",
       "    .dataframe tbody tr th {\n",
       "        vertical-align: top;\n",
       "    }\n",
       "\n",
       "    .dataframe thead th {\n",
       "        text-align: right;\n",
       "    }\n",
       "</style>\n",
       "<table border=\"1\" class=\"dataframe\">\n",
       "  <thead>\n",
       "    <tr style=\"text-align: right;\">\n",
       "      <th></th>\n",
       "      <th>Name</th>\n",
       "      <th>Seattle</th>\n",
       "      <th>Houston</th>\n",
       "      <th>New York City</th>\n",
       "      <th>Los Angeles</th>\n",
       "      <th>Chicago</th>\n",
       "      <th>Philadelphia</th>\n",
       "      <th>Pheonix</th>\n",
       "    </tr>\n",
       "  </thead>\n",
       "  <tbody>\n",
       "    <tr>\n",
       "      <th>0</th>\n",
       "      <td>temperature</td>\n",
       "      <td>52.682192</td>\n",
       "      <td>69.946575</td>\n",
       "      <td>55.047945</td>\n",
       "      <td>65.478082</td>\n",
       "      <td>51.505479</td>\n",
       "      <td>55.972603</td>\n",
       "      <td>75.109589</td>\n",
       "    </tr>\n",
       "    <tr>\n",
       "      <th>1</th>\n",
       "      <td>precipitation</td>\n",
       "      <td>37.490000</td>\n",
       "      <td>49.770000</td>\n",
       "      <td>49.940000</td>\n",
       "      <td>14.930000</td>\n",
       "      <td>39.090000</td>\n",
       "      <td>41.530000</td>\n",
       "      <td>8.030000</td>\n",
       "    </tr>\n",
       "  </tbody>\n",
       "</table>\n",
       "</div>"
      ],
      "text/plain": [
       "            Name    Seattle    Houston  New York City  Los Angeles    Chicago  \\\n",
       "0    temperature  52.682192  69.946575      55.047945    65.478082  51.505479   \n",
       "1  precipitation  37.490000  49.770000      49.940000    14.930000  39.090000   \n",
       "\n",
       "   Philadelphia    Pheonix  \n",
       "0     55.972603  75.109589  \n",
       "1     41.530000   8.030000  "
      ]
     },
     "execution_count": 15,
     "metadata": {},
     "output_type": "execute_result"
    }
   ],
   "source": [
    "data = {'Name': ['temperature', 'precipitation'],\n",
    "        'Seattle': [seattle_average_temp_year, seattle_average_prec_year],\n",
    "        'Houston': [houston_average_temp_year, houston_average_prec_year],\n",
    "        'New York City': [nyc_average_temp_year, nyc_average_prec_year],\n",
    "        'Los Angeles': [la_average_temp_year, la_average_prec_year],\n",
    "        'Chicago': [chicago_average_temp_year, chicago_average_prec_year],\n",
    "        'Philadelphia': [philadelphia_average_temp_year, philadelphia_average_prec_year],\n",
    "        'Pheonix': [pheonix_average_temp_year, pheonix_average_prec_year]\n",
    "}\n",
    "  \n",
    "# Creates pandas DataFrame.\n",
    "df = pd.DataFrame(data)\n",
    "df"
   ]
  },
  {
   "cell_type": "code",
   "execution_count": 16,
   "metadata": {},
   "outputs": [],
   "source": [
    "df.to_csv(r'finalData.csv', index = False)"
   ]
  }
 ],
 "metadata": {
  "kernelspec": {
   "display_name": "Python 3.10.7 64-bit",
   "language": "python",
   "name": "python3"
  },
  "language_info": {
   "codemirror_mode": {
    "name": "ipython",
    "version": 3
   },
   "file_extension": ".py",
   "mimetype": "text/x-python",
   "name": "python",
   "nbconvert_exporter": "python",
   "pygments_lexer": "ipython3",
   "version": "3.10.7"
  },
  "orig_nbformat": 4,
  "vscode": {
   "interpreter": {
    "hash": "aee8b7b246df8f9039afb4144a1f6fd8d2ca17a180786b69acc140d282b71a49"
   }
  }
 },
 "nbformat": 4,
 "nbformat_minor": 2
}
